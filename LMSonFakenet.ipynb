{
 "cells": [
  {
   "cell_type": "markdown",
   "metadata": {},
   "source": [
    "# LMS in Sensor Network\n",
    " This is my first jupyter notebook example on Distributed LMS on sensor network.\n",
    " \n",
    " Statinary Data Model: $Y_i = X^o +N_i$;\n",
    " \n",
    " where $Y_i$ is the network noisy measurement data, \n",
    " \n",
    "$X^o$ is the true network signal to be estimate and \n",
    "\n",
    "$N_i$ is a zero mean gaussian noise."
   ]
  },
  {
   "cell_type": "markdown",
   "metadata": {},
   "source": [
    "# Importing Classes and Packages"
   ]
  },
  {
   "cell_type": "code",
   "execution_count": 1,
   "metadata": {
    "collapsed": true
   },
   "outputs": [],
   "source": [
    "import pandas as pd\n",
    "import numpy as np\n",
    "import math\n",
    "import matplotlib.pyplot as plt\n",
    "from matplotlib import collections as mc\n",
    "from matplotlib import lines\n",
    "from numpy import linalg as la\n",
    "import numpy.matlib as mat\n",
    "from scipy.spatial.distance  import pdist, squareform# Function to find the Euclidean distance between Node\n",
    "\n",
    "## import my class"
   ]
  },
  {
   "cell_type": "code",
   "execution_count": 9,
   "metadata": {},
   "outputs": [
    {
     "data": {
      "text/plain": [
       "array([-2.97846403, -3.57613433, -0.73441379])"
      ]
     },
     "execution_count": 9,
     "metadata": {},
     "output_type": "execute_result"
    }
   ],
   "source": [
    "np.log(a)"
   ]
  },
  {
   "cell_type": "markdown",
   "metadata": {},
   "source": [
    "# Import the FakeNet Data"
   ]
  },
  {
   "cell_type": "markdown",
   "metadata": {
    "collapsed": true
   },
   "source": [
    "ColName    = ['Latitude','Longitude','Height']\n",
    "faultName  =['StartLat','StartLong','EndLat','EndLong']\n",
    "StationLocation = pd.read_excel('../fakenet_filesIntern/fakenet.xlsx',sheetname=0,header=None,skiprows=1,names = ColName)\n",
    "LatSeries  = pd.read_excel('../fakenet_filesIntern/fakenet.xlsx',sheetname=1,header=None,skiprows=1)\n",
    "LongSeries = pd.read_excel('../fakenet_filesIntern/fakenet.xlsx',sheetname=2,header=None,skiprows=1)\n",
    "faultpos = pd.read_excel('../fakenet_filesIntern/fakenet.xlsx',sheetname=3,header=None,names=faultName)\n",
    "                           \n",
    "LatSlip  = LatSeries.iloc[-1].values\n",
    "LongSlip = LongSeries.iloc[-1].values\n",
    "LatPos = StationLocation['Latitude'].values\n",
    "LongPos = StationLocation['Longitude'].values\n",
    "NodePosition = np.c_[LatPos,LongPos]\n",
    "\n",
    "Startfault= np.array(faultpos.iloc[:,[0,2]])\n",
    "Endfault = np.array(faultpos.iloc[:,[1,3]])\n",
    "\n",
    "fig = plt.figure()\n",
    "ax = fig.add_subplot(111)\n",
    "plt.plot(StationLocation['Latitude'],StationLocation['Longitude'],'o',alpha = -0.3)\n",
    "plt.quiver(StationLocation['Latitude'], StationLocation['Longitude'], LatSlip, LongSlip)\n",
    "for i in range(len(Startfault)):\n",
    "  plt.plot(Startfault[i,:],Endfault[i,:])\n",
    "ax.annotate('Slip Event', xy=(Startfault[0,1],Endfault[0,1]) , xytext=(Startfault[0,1]-0.2,Endfault[0,1]+0.01) , arrowprops=dict(color='red', shrink = 1,headwidth=7,width=1),)\n",
    "plt.title('Slip Event')\n",
    "\n",
    "plt.show()"
   ]
  },
  {
   "cell_type": "markdown",
   "metadata": {},
   "source": [
    "# Import Synthetic Network"
   ]
  },
  {
   "cell_type": "code",
   "execution_count": 67,
   "metadata": {
    "collapsed": true
   },
   "outputs": [],
   "source": [
    "def synnetwork():\n",
    "    synColName = ['Latitude','Longitude','Slip'] \n",
    "    StationLocation= pd.read_csv('Data/GPS.csv',sep=',',header=None,names = synColName)\n",
    "    L = np.mat(pd.read_csv('Data/GPSAdjacency.csv',sep=',',header=None))\n",
    "    Slip = np.mat(StationLocation['Slip'])\n",
    "    #fig = plt.figure()\n",
    "    N = len(StationLocation)\n",
    "    #ax = fig.add_subplot(111)\n",
    "    plt.plot(StationLocation['Latitude'],StationLocation['Longitude'],'o',alpha = -0.3)\n",
    "    plt.quiver(StationLocation['Latitude'],StationLocation['Longitude'],Slip,np.zeros(N))\n",
    "    plt.axhline(0, color='red')\n",
    "    #ax.annotate('Slip Event', xy=(30,0) , xytext=(38,8) , arrowprops=dict(color='blue', shrink = 1,headwidth=7,width=1),)\n",
    "    plt.title('Slip Event on Synthetic Network')\n",
    "    ### Plotting the Edges form Adjacency \n",
    "   # plt.show()\n",
    "    plt.plot(StationLocation['Latitude'],StationLocation['Longitude'],'o',alpha = -0.3)\n",
    "    for i in range(N):\n",
    "        for j in range(i+1,N):\n",
    "            if L[i,j]!=0:\n",
    "                x = [StationLocation['Latitude'][i],StationLocation['Latitude'][j]]\n",
    "                y = [StationLocation['Longitude'][i],StationLocation['Longitude'][j]]\n",
    "                plt.plot(x,y,'g--')\n",
    "    #plt.subplot(1,2,2)\n",
    "    #plt.plot(StationLocation['Latitude'],StationLocation['Longitude'],'o',alpha = -0.3)\n",
    "    plt.title('Network Topology')\n",
    " #   plt.show()\n",
    "    return N,L,Slip"
   ]
  },
  {
   "cell_type": "markdown",
   "metadata": {},
   "source": [
    "# Main Program"
   ]
  },
  {
   "cell_type": "code",
   "execution_count": 73,
   "metadata": {
    "collapsed": true
   },
   "outputs": [],
   "source": [
    "def main():\n",
    "    N,L,Slip = synnetwork()\n",
    "    Graph = Network(N,L)\n",
    "    Imax = 1000 # Maximum Iteration\n",
    "    Smax = 1 # Number of Simulation\n",
    "    Mvar = np.square(5)\n",
    "    Algnum = 3 # Number of Algorithm 1:LMS 2:GGF,LGF 3:GGF_EV,LGFEV\n",
    "    node =[]\n",
    "    msd = []\n",
    "    Iteration = 1 \n",
    "    SRun = 1\n",
    "    msd = []\n",
    "    for i in range(Alg): # set the initial estimate to zeros of N size.\n",
    "        node.append(Node(N))\n",
    "        msd.append(MSD)\n",
    "    while SRun<Smax:\n",
    "        Graph.Y = slip + np.sqrt(Mvar)*mat.random.randn((Graph.N,1))\n",
    "        for a in range(Algnum)\n",
    "            Alg(Graph,node[a],a)\n",
    "            if(SRun ==1):\n",
    "                MSD.g.append(node[a].GLobalMSD)\n",
    "                MSD.l.append(node[a].LocalMSD)\n",
    "            else:\n",
    "                MSD.g[0,Iteration] +=(1/Smax)*node[a].GlobalMSD\n",
    "                MSD.l[0,Iteration] +=(1/Smax)*node[a].LocalMSD\n",
    "                \n",
    "        if(Iteration => Imax):\n",
    "            Iteration = 1\n",
    "            SRun += SRun\n",
    "            del Graph,node\n",
    "            Graph = Network(N,L)\n",
    "            for i in range(Alg): # set the initial estimate to zeros of N size.\n",
    "                node.append(Node(N))\n",
    "            \n",
    "        else:\n",
    "            Iteration += 1\n",
    "    plotMSD(MSD,Algnum)\n",
    "        \n",
    "            \n",
    "    \n",
    "if __name__ == '__main__':\n",
    "    main()"
   ]
  },
  {
   "cell_type": "markdown",
   "metadata": {},
   "source": [
    "# Function used in Main"
   ]
  },
  {
   "cell_type": "code",
   "execution_count": 92,
   "metadata": {
    "collapsed": true
   },
   "outputs": [],
   "source": [
    "def plottingMSD(MSD,Algnum)\n",
    "    for a in range(Algnum)\n",
    "        hg = 10*np.log10(MSD.g)\n",
    "        hl = 10*np.log10(MSD.l)\n",
    "        plt.plot(hg)\n",
    "def Alg(Graph,node,a):\n",
    "    if(a==0): # Run LMS algorithm\n",
    "        LMS(Graph,node)\n",
    "    elif(a==1): # Run EV algorithms (Global and distributed)\n",
    "        GGF_EV(Graph,node)\n",
    "        LGF_EV(Graph,node)\n",
    "    else: # GF algorihtms (Global and distributed)\n",
    "        GGF(Graph,node)\n",
    "        LGF(Graph,node)\n",
    "#########################################    \n",
    "class MSD:\n",
    "    g = []\n",
    "    l = []"
   ]
  },
  {
   "cell_type": "code",
   "execution_count": 83,
   "metadata": {
    "collapsed": true
   },
   "outputs": [],
   "source": [
    "node =[]\n",
    "for i in range(2): # set the initial estimate to zeros of N size.\n",
    "    node.append(Node(4))"
   ]
  },
  {
   "cell_type": "markdown",
   "metadata": {},
   "source": [
    "# Network Class"
   ]
  },
  {
   "cell_type": "code",
   "execution_count": 63,
   "metadata": {
    "collapsed": true
   },
   "outputs": [],
   "source": [
    "class Network:\n",
    "    LMS =0\n",
    "    GGF =0\n",
    "    LGF =0\n",
    "    GGFEV =0\n",
    "    LGFEV =0\n",
    "    ACG  = 0 # 0 : ACG, 1:AGC\n",
    "    setpsize = 1\n",
    "    theta = 0 # TV component\n",
    "    def __init__(self,N,L):\n",
    "        self.N       = N\n",
    "        self.Xmean = 10*np.ones((N,1))\n",
    "        self.L       = L           # Network Laplacian\n",
    "        self.Y       = mat.zeros((N,1))  # Measurement Data\n",
    "        self.Xtrue = mat.zeros((N,1))# True Network Data\n",
    "        ED,EV     = la.eig(L)      # EigenValue and EigenVecotr Matrix of Laplacian. Eigen Value are in Desending Order\n",
    "        self.D      = np.mat(np.diagflat(ED))\n",
    "        self.S       = np.mat(np.transpose(EV)) ## Global GFT matrix\n",
    "        self.EstS   = np.mat(mat.random.rand(N,N)) # Estimated GFT Matrix\n",
    "        self.C       = mat.zeros((N,N))# Covariance Matrix\n",
    "        self.Local  = []\n",
    "        for i in range(N):\n",
    "            self.Local.append(Local(N))# Contains each node Laplaciand and its eigendecomposition\n",
    "        NghMat  = np.int_(L!=0)  ## find zeor one Adjacency matrix \n",
    "        totalNgh = np.sum(NghMat,axis=1) ## total number of neighbor\n",
    "        totalNgh = totalNgh.reshape(N,1) ## reshape the total numer of neighbor array\n",
    "        self.A     = np.mat(np.diagflat(1/totalNgh)*NghMat) # weighted adjacency matrix\n",
    "        self.findlocalL\n",
    "\n",
    "            ################\n",
    "    def findlocalL(self):\n",
    "        for i in range(self.N):\n",
    "            self.Local[i].L[:,i] = 0.5*self.L[:,i]\n",
    "            self.Local[i].L[i,:] = 0.5*self.L[i,:]\n",
    "            neighbor = np.nonzero(self.L[i,:])\n",
    "            for j in range(len(neighbor)-1):\n",
    "                n = neighbor[0][j]\n",
    "                self.Local[n,n] = -0.5*self.L[i,n];\n",
    "            self.Local[i].L[i,i] = 0;\n",
    "            self.Local[i].L[i,i] = 0.5 + 0.5*sum(self.L[i,:])\n",
    "            self.localpermutationM\n",
    "            self.LocalEDUpdate\n",
    "####################\n",
    "    def localEDupdate(self):\n",
    "        self.LocalPermulatationMat # find the permutation matrix for each node\n",
    "        for i in range(self.N):\n",
    "            ngh = sum(np.int_(self.L!=0),axis =1) # numer of node k neighbor\n",
    "            BigL = self.Local[i].E.T*self.Local[i].L*self.Local[i].E #Permute the local laplacian\n",
    "            SmallL = BigL[0:ngh-1,0:ngh-1]  # Extract small local laplacian \n",
    "            LED,LEV = la.eig(SmallL) # eigen decomposition of small local laplacian\n",
    "            self.Local[i].D[0:ngh-1,0:ngh-1] = np.diagflat(LED)# update the eigen value matrix of local laplacian\n",
    "            self.Local[i].S[0:ngh-1,0:ngh-1] = LEV.T # update the eigenvector matrix of local laplacian\n",
    "            \n",
    "####################\n",
    "    def localpermutationM(self):\n",
    "        for i in range(self.N):\n",
    "            k = 2;\n",
    "            for j in range(self.N):\n",
    "                self.Local[i].E[i,1] = 1 \n",
    "                if(i!=j & self.Local[i].L[j,j]>0):\n",
    "                    self.Local[i].E[j,k] = 1;\n",
    "                    k +=1\n",
    "####################\n",
    "    def Xtrueupdate(self):\n",
    "        self.theta = 0.9*self.theta + math.sqrt(0.01)*self.S.T*la.pinv(self.D)*mat.random.randn(self.N,1) # Update Random Walk in Signal Model\n",
    "        self.Xtrue = self.Xmean + self.theta # New Signal at time i\n",
    "####################\n",
    "    def globalCupdateandestimate(self):\n",
    "        I = mat.eye(self.N)\n",
    "        self.C = self.C + (self.Y*self.Y.T) # update global covariance matrix \n",
    "        V = self.EVtracking(self.S.T,self.C+I) # update eigenvector matrix\n",
    "        self.S = V.T\n",
    "#################### \n",
    "    def localCupdateandestimate(self):\n",
    "        for i in range(self.N):\n",
    "            nghList = np.int_(self.L!=0)\n",
    "            NeighborY = slef.Local[i].E.T*np.multiply(nghList.T,self.Y) # get neighbor measurement data\n",
    "            self.Local[i].C += NeighborY*NeighborY.T # Update the Local Covariance matrix \n",
    "            SmallC = self.C[0:sum(nghList)-1,0:sum(nghList)-1] + mat.eye(sum(nghList)) # extract small size covariance matrix\n",
    "            SmallV = self.Local[i].EstS[0:sum(nghList)-1,0:sum(nghList)-1] .T # extract small eigenvectror matrix \n",
    "            SmallV = self.EVtracking(SmallV,SmallC)  # update the eigenvector matrix\n",
    "            self.Local[i].EstS[0:sum(nghList)-1,0:sum(nghList)-1] = SmallV.T # save in big matirx\n",
    "####################    \n",
    "    def EVtracking(V,L):\n",
    "        n = len(V)\n",
    "        UpdateV = mat.zeros((n,n))\n",
    "        ss = 1/la.norm(L)\n",
    "        I  = mat.eye(n)\n",
    "        for i in range(N):\n",
    "                W = mat.zeros((n,n))\n",
    "                for j in range(0,i):\n",
    "                    W += V[:,j]*V[:,j].T\n",
    "                UpdateV[:,i] = V[:,i] + ss*(I -V[:,i]*V[:,i].T)*L*(I-W)*V[:,i]\n",
    "                UpdateV[:,i] = UpdateV[:,i]/la.norm(UpdateV[:,i])\n",
    "        return UpdatV"
   ]
  },
  {
   "cell_type": "markdown",
   "metadata": {},
   "source": [
    "# Local Class"
   ]
  },
  {
   "cell_type": "code",
   "execution_count": 56,
   "metadata": {
    "collapsed": true
   },
   "outputs": [],
   "source": [
    "class Local:\n",
    "    def __init__(self,N):\n",
    "        self.L  = mat.zeros((N,N)) #Local Laplacain\n",
    "        self.S  = mat.zeros((N,N))# Local GFT Matrix\n",
    "        self.EstS  = mat.zeros((N,N)) # Estimated Local GFT Matrix\n",
    "        self.D  = mat.zeros((N,N)) # Local Eigenvalue Matrix\n",
    "        self.C  = mat.zeros((N,N))# Local Covariance Matrix\n",
    "        self.E  = mat.zeros((N,N))"
   ]
  },
  {
   "cell_type": "markdown",
   "metadata": {},
   "source": [
    "# Node Class"
   ]
  },
  {
   "cell_type": "code",
   "execution_count": 101,
   "metadata": {
    "collapsed": true
   },
   "outputs": [],
   "source": [
    "class Node:\n",
    "    GlobalMSD = 0\n",
    "    LocalMSD = 0\n",
    "    def __init__(self,N):\n",
    "        self.GlobalX = mat.zeros((N,1)) # Global Estimate\n",
    "        self.X = mat.zeros((N,N)) # Each column corresponds to each node Estimate "
   ]
  },
  {
   "cell_type": "markdown",
   "metadata": {},
   "source": [
    "# GF Class"
   ]
  },
  {
   "cell_type": "code",
   "execution_count": 100,
   "metadata": {
    "collapsed": true
   },
   "outputs": [],
   "source": [
    "class GF:\n",
    "    def globaladapting(Graph,node):\n",
    "        node.GlobalX = node.GlobalX - (Graph.stepsize/Graph.N)*node.GlobalX + (Graph.stepsize/Graph.N)*Graph.Y\n",
    "    def globalfilter(Graph,EV,node):\n",
    "        if EV ==1:\n",
    "            S = node.S\n",
    "        else:\n",
    "            S = Graph.S[end:1:-1,:]\n",
    "            \n",
    "        TrueS = Graph.S[end:1:-1,:]\n",
    "        Fest    = S*node.GlobalX\n",
    "        Ftrue   = TrueS*Graph.Xtrue\n",
    "        I   = mat.eye(Graph.N)\n",
    "        Theta = mat.zeros((Graph.N,Graph.N))\n",
    "        D = I\n",
    "        for i in range(Graph.N):\n",
    "            if Graph.D[i,i]>0.00001:\n",
    "                filtercoef = 2*(np.square(Fest[0,i])-np.square(Ftrue[0,i]))/(D[i,i]*np.square(Ftrue[0,i]))\n",
    "                filtercoef  = max(filtercoef,1)\n",
    "                filtercoef  = min(filtercoef,0)\n",
    "                Theta[i,i] = filtercoef*D[i,i]\n",
    "        node.GlobalX = (I - S.T*Theta*S)*node.GlobalX\n",
    "    ############################\n",
    "   #############################\n",
    "    def localadapting(Graph,node):\n",
    "        I = mat.eye(Graph.N)\n",
    "        X = mat.zeros((Graph.N,Graph.N))\n",
    "        for i in range(Graph.N):\n",
    "            e = mat.zeros(Graph.N)\n",
    "            e[0,i] =1\n",
    "            node.X[:,i] = node.X[:,i] - Graph.stepsize*np.multiply(node.X[:,i],e) + Graph.stepsize*np.multiply(Graph.Y,e)\n",
    "    #############################\n",
    "    def localcombining(Graph,node):\n",
    "        I = mat.eye(Graph.N)\n",
    "        Xinter = []\n",
    "        for i in range(Graph.N):\n",
    "            X = mat.zeros((Graph.N,1)) ## N times 1 column vector \n",
    "            for j in range(Graph.N):\n",
    "                X  += Graph.A[i,j]*node.X[:,j]\n",
    "            if i ==1:\n",
    "                Xinter = X.copy()\n",
    "            else:\n",
    "                 Xinter = np.concatenate(Xinter,X)\n",
    "        node.X = Xinter.copy()\n",
    "        #############################\n",
    "    def localfilter(Graph,EV,node):\n",
    "        I = mat.eye(Graph.N)\n",
    "        X = mat.zero((Graph.N,Graph.N))                                                                   \n",
    "        for i in range(Graph.N):\n",
    "            if EV ==1:\n",
    "                LocalS = Graph.Local[i].EstS\n",
    "                D = I                                                           \n",
    "            else:\n",
    "                LocalS = Graph.Local[i].S\n",
    "                D = Graph.Local[i].D                     \n",
    "            h = mat.zeros((Graph.N,Graph.N))\n",
    "            LocalFtrue = Graph.Local[i].S*Graph.Local[i].E.T*Graph.Xtrue \n",
    "            LocalF = Graph.Local[i].S*Graph.Local[i].E.T*node.X[:,i]\n",
    "            for j in range(sum(np.int_(LocalFtrue!=0))):\n",
    "                htemp =  2*(np.square(LocalF[0,j])-np.square(LocalFtrue[0,j]))/(D[j,j]*np.square(LocalF[0,j]))                                                    \n",
    "                htemp = min(htemp,1)\n",
    "                htemp = max(htemp,0)                                                          \n",
    "                h[0,j] =h_*D[j,j]\n",
    "            X = node.X[:,i]- Graph.Graph.Local[i].E*LocalS.T*h*LocalS*Graph.Local[i].E.T*node.X[:,i];\n",
    "        node.X = X.copy()                                                                    "
   ]
  },
  {
   "cell_type": "markdown",
   "metadata": {},
   "source": [
    "# Algorithm"
   ]
  },
  {
   "cell_type": "code",
   "execution_count": null,
   "metadata": {
    "collapsed": true
   },
   "outputs": [],
   "source": [
    "def LMS(Graph,node):\n",
    "    if(Graph.LMS==1)\n",
    "        GF.globaladapting(Graph,node)\n",
    "        node.GlobalMSD = (1/Graph.N)*np.square(la.norm(Graph.Xtrue - node.GlobalX))\n",
    "def GGF(Graph,node):\n",
    "    if(Graph.GGF ==1):\n",
    "        GF.globaladapting(Graph,node)\n",
    "        GF.globalfilter(Graph,0,node)\n",
    "        node.GlobalMSD = (1/Graph.N)*np.square(la.norm(Graph.Xtrue - node.GlobalX))\n",
    "def LGF(Graph,node):\n",
    "    if(Grpah.LGF == 1):\n",
    "        GF.localadapting(Graph,node)\n",
    "        if(ACG ==0):\n",
    "            GF.localcombining(Graph,node)\n",
    "            GF.localfilter(Graph,0,node)\n",
    "        else:\n",
    "            GF.localfilter(Graph,0,node)\n",
    "            GF.localcombining(Graph,node)\n",
    "        errorsquared = []\n",
    "        for i in range(Graph.N):\n",
    "            errorsquared.append((1/Graph.N)*np.square(la.norm(Graph.Xtrue - node.X[:,i])))\n",
    "        node.LOcalMSD = np.mean(errorsquared)\n",
    "def GGF_EV(Graph,node):\n",
    "    if(Grpah.LGFEV == 1):\n",
    "        GF.localadapting(Graph,node)\n",
    "        if(ACG ==0):\n",
    "            GF.localcombining(Graph,node)\n",
    "            GF.localfilter(Graph,1,node)\n",
    "        else:\n",
    "            GF.localfilter(Graph,1,node)\n",
    "            GF.localcombining(Graph,node)\n",
    "        errorsquared = []\n",
    "        for i in range(Graph.N):\n",
    "            errorsquared.append((1/Graph.N)*np.square(la.norm(Graph.Xtrue - node.X[:,i])))\n",
    "        node.LOcalMSD = np.mean(errorsquared)\n",
    "def LGF_EV(Graph,node):\n",
    "    if(Graph.GGFEV ==1):\n",
    "        GF.globaladapting(Graph,node)\n",
    "        GF.globalfilter(Graph,1,node)\n",
    "        node.GlobalMSD = (1/Graph.N)*np.square(la.norm(Graph.Xtrue - node.GlobalX))"
   ]
  }
 ],
 "metadata": {
  "kernelspec": {
   "display_name": "Python 3",
   "language": "python",
   "name": "python3"
  },
  "language_info": {
   "codemirror_mode": {
    "name": "ipython",
    "version": 3
   },
   "file_extension": ".py",
   "mimetype": "text/x-python",
   "name": "python",
   "nbconvert_exporter": "python",
   "pygments_lexer": "ipython3",
   "version": "3.6.1"
  }
 },
 "nbformat": 4,
 "nbformat_minor": 2
}
